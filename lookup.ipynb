{
 "cells": [
  {
   "cell_type": "code",
   "execution_count": 1,
   "id": "f416e647-7db9-4e8d-a960-27787272777f",
   "metadata": {},
   "outputs": [],
   "source": [
    "import pandas as pd"
   ]
  },
  {
   "cell_type": "code",
   "execution_count": 2,
   "id": "6110db9c-d1f7-416d-acf3-c748a45f674e",
   "metadata": {
    "scrolled": true
   },
   "outputs": [
    {
     "data": {
      "text/html": [
       "<div>\n",
       "<style scoped>\n",
       "    .dataframe tbody tr th:only-of-type {\n",
       "        vertical-align: middle;\n",
       "    }\n",
       "\n",
       "    .dataframe tbody tr th {\n",
       "        vertical-align: top;\n",
       "    }\n",
       "\n",
       "    .dataframe thead th {\n",
       "        text-align: right;\n",
       "    }\n",
       "</style>\n",
       "<table border=\"1\" class=\"dataframe\">\n",
       "  <thead>\n",
       "    <tr style=\"text-align: right;\">\n",
       "      <th></th>\n",
       "      <th>node_id</th>\n",
       "      <th>trial</th>\n",
       "      <th>drugs</th>\n",
       "      <th>diseases</th>\n",
       "      <th>outcomes</th>\n",
       "      <th>incl_criteria</th>\n",
       "      <th>excl_criteria</th>\n",
       "      <th>has_results</th>\n",
       "    </tr>\n",
       "  </thead>\n",
       "  <tbody>\n",
       "    <tr>\n",
       "      <th>0</th>\n",
       "      <td>KG00125078</td>\n",
       "      <td>NCT02929316</td>\n",
       "      <td>('KG00018929',)</td>\n",
       "      <td>('KG00000882',)</td>\n",
       "      <td>set()</td>\n",
       "      <td>{'KG00018929', 'KG00075208', 'KG00074449', 'KG...</td>\n",
       "      <td>{'KG00092647', 'KG00010580', 'KG00073374', 'KG...</td>\n",
       "      <td>False</td>\n",
       "    </tr>\n",
       "    <tr>\n",
       "      <th>1</th>\n",
       "      <td>KG00125079</td>\n",
       "      <td>NCT02920359</td>\n",
       "      <td>('KG00010582',)</td>\n",
       "      <td>('KG00005750',)</td>\n",
       "      <td>{'KG00122080', 'KG00122031', 'KG00122979'}</td>\n",
       "      <td>{'KG00078366', 'KG00095824', 'KG00075208', 'KG...</td>\n",
       "      <td>{'KG00092647', 'KG00097024', 'KG00004538', 'KG...</td>\n",
       "      <td>False</td>\n",
       "    </tr>\n",
       "    <tr>\n",
       "      <th>2</th>\n",
       "      <td>KG00125080</td>\n",
       "      <td>NCT02920905</td>\n",
       "      <td>('KG00010846',)</td>\n",
       "      <td>('KG00002650',)</td>\n",
       "      <td>{'KG00122845', 'KG00122404'}</td>\n",
       "      <td>set()</td>\n",
       "      <td>{'KG00005088', 'KG00003011', 'KG00002428', 'KG...</td>\n",
       "      <td>False</td>\n",
       "    </tr>\n",
       "    <tr>\n",
       "      <th>3</th>\n",
       "      <td>KG00125081</td>\n",
       "      <td>NCT02920905</td>\n",
       "      <td>('KG00010846', 'KG00024629')</td>\n",
       "      <td>('KG00002650',)</td>\n",
       "      <td>{'KG00122845', 'KG00122404'}</td>\n",
       "      <td>set()</td>\n",
       "      <td>{'KG00005088', 'KG00003011', 'KG00002428', 'KG...</td>\n",
       "      <td>False</td>\n",
       "    </tr>\n",
       "    <tr>\n",
       "      <th>4</th>\n",
       "      <td>KG00125082</td>\n",
       "      <td>NCT02920905</td>\n",
       "      <td>('KG00010846', 'KG00012048', 'KG00024629')</td>\n",
       "      <td>('KG00002650',)</td>\n",
       "      <td>{'KG00122845', 'KG00122404'}</td>\n",
       "      <td>set()</td>\n",
       "      <td>{'KG00005088', 'KG00003011', 'KG00002428', 'KG...</td>\n",
       "      <td>False</td>\n",
       "    </tr>\n",
       "  </tbody>\n",
       "</table>\n",
       "</div>"
      ],
      "text/plain": [
       "      node_id        trial                                       drugs  \\\n",
       "0  KG00125078  NCT02929316                             ('KG00018929',)   \n",
       "1  KG00125079  NCT02920359                             ('KG00010582',)   \n",
       "2  KG00125080  NCT02920905                             ('KG00010846',)   \n",
       "3  KG00125081  NCT02920905                ('KG00010846', 'KG00024629')   \n",
       "4  KG00125082  NCT02920905  ('KG00010846', 'KG00012048', 'KG00024629')   \n",
       "\n",
       "          diseases                                    outcomes  \\\n",
       "0  ('KG00000882',)                                       set()   \n",
       "1  ('KG00005750',)  {'KG00122080', 'KG00122031', 'KG00122979'}   \n",
       "2  ('KG00002650',)                {'KG00122845', 'KG00122404'}   \n",
       "3  ('KG00002650',)                {'KG00122845', 'KG00122404'}   \n",
       "4  ('KG00002650',)                {'KG00122845', 'KG00122404'}   \n",
       "\n",
       "                                       incl_criteria  \\\n",
       "0  {'KG00018929', 'KG00075208', 'KG00074449', 'KG...   \n",
       "1  {'KG00078366', 'KG00095824', 'KG00075208', 'KG...   \n",
       "2                                              set()   \n",
       "3                                              set()   \n",
       "4                                              set()   \n",
       "\n",
       "                                       excl_criteria  has_results  \n",
       "0  {'KG00092647', 'KG00010580', 'KG00073374', 'KG...        False  \n",
       "1  {'KG00092647', 'KG00097024', 'KG00004538', 'KG...        False  \n",
       "2  {'KG00005088', 'KG00003011', 'KG00002428', 'KG...        False  \n",
       "3  {'KG00005088', 'KG00003011', 'KG00002428', 'KG...        False  \n",
       "4  {'KG00005088', 'KG00003011', 'KG00002428', 'KG...        False  "
      ]
     },
     "execution_count": 2,
     "metadata": {},
     "output_type": "execute_result"
    }
   ],
   "source": [
    "arms = pd.read_csv(\"/home/elkip/Data/planet/graph/unique_arms.csv\")\n",
    "arms.head()"
   ]
  },
  {
   "cell_type": "code",
   "execution_count": 9,
   "id": "4b30209f-4700-4ac6-930f-cb1caa476eea",
   "metadata": {},
   "outputs": [
    {
     "data": {
      "text/plain": [
       "<bound method NDFrame.head of      Unnamed: 0                    KG00004919  \\\n",
       "0         names      {'Directive Counseling'}   \n",
       "1           ids                   {'D037001'}   \n",
       "2  disease_grps  ('Psychological Phenomena',)   \n",
       "\n",
       "                                          KG00003428  \\\n",
       "0   {'Temporomandibular Joint Dysfunction Syndrome'}   \n",
       "1                                        {'D013706'}   \n",
       "2  ('Musculoskeletal Diseases', 'Stomatognathic D...   \n",
       "\n",
       "                                          KG00005332  \\\n",
       "0                        {'Asthma, Aspirin-Induced'}   \n",
       "1                                        {'D055963'}   \n",
       "2  ('Chemically-Induced Disorders', 'Immune Syste...   \n",
       "\n",
       "                                         KG00000717  \\\n",
       "0                                  {'Birth Weight'}   \n",
       "1                                       {'D001724'}   \n",
       "2  ('Pathological Conditions, Signs and Symptoms',)   \n",
       "\n",
       "                                          KG00000572  \\\n",
       "0                                 {'Aortic Rupture'}   \n",
       "1                                        {'D001019'}   \n",
       "2  ('Cardiovascular Diseases', 'Wounds and Injuri...   \n",
       "\n",
       "                                 KG00003964  \\\n",
       "0                            {'Foot Ulcer'}   \n",
       "1                               {'D016523'}   \n",
       "2  ('Skin and Connective Tissue Diseases',)   \n",
       "\n",
       "                                          KG00004291  \\\n",
       "0                          {'Carcinoma, Islet Cell'}   \n",
       "1                                        {'D018273'}   \n",
       "2  ('Digestive System Diseases', 'Endocrine Syste...   \n",
       "\n",
       "                     KG00003289  \\\n",
       "0         {'Speech Perception'}   \n",
       "1                   {'D013067'}   \n",
       "2  ('Psychological Phenomena',)   \n",
       "\n",
       "                                         KG00003226  ...  \\\n",
       "0                            {'Signs and Symptoms'}  ...   \n",
       "1                                       {'D012816'}  ...   \n",
       "2  ('Pathological Conditions, Signs and Symptoms',)  ...   \n",
       "\n",
       "                              KG00004374                           KG00000204  \\\n",
       "0                            {'Spouses'}  {'Nut and Peanut Hypersensitivity'}   \n",
       "1                            {'D018454'}                       {'D000074924'}   \n",
       "2  ('Behavior and Behavior Mechanisms',)          ('Immune System Diseases',)   \n",
       "\n",
       "                                         KG00003789  \\\n",
       "0                                   {'Weight Gain'}   \n",
       "1                                       {'D015430'}   \n",
       "2  ('Pathological Conditions, Signs and Symptoms',)   \n",
       "\n",
       "                             KG00000324  \\\n",
       "0  {'Body Integrity Identity Disorder'}   \n",
       "1                        {'D000081042'}   \n",
       "2                 ('Mental Disorders',)   \n",
       "\n",
       "                                      KG00001199                KG00001288  \\\n",
       "0  {'Hyperostosis, Diffuse Idiopathic Skeletal'}  {'Echovirus Infections'}   \n",
       "1                                    {'D004057'}               {'D004457'}   \n",
       "2                  ('Musculoskeletal Diseases',)           ('Infections',)   \n",
       "\n",
       "                              KG00002380                    KG00001066  \\\n",
       "0                             {'Morals'}       {'Coronary Thrombosis'}   \n",
       "1                            {'D009014'}                   {'D003328'}   \n",
       "2  ('Behavior and Behavior Mechanisms',)  ('Cardiovascular Diseases',)   \n",
       "\n",
       "                  KG00004430             KG00004279  \n",
       "0  {'Heat Stress Disorders'}  {'Adenomatoid Tumor'}  \n",
       "1                {'D018882'}            {'D018254'}  \n",
       "2   ('Wounds and Injuries',)         ('Neoplasms',)  \n",
       "\n",
       "[3 rows x 5752 columns]>"
      ]
     },
     "execution_count": 9,
     "metadata": {},
     "output_type": "execute_result"
    }
   ],
   "source": [
    "disease_metadata = pd.read_csv(\"/home/elkip/Data/planet/analysis/trial_embeddings/disease_metadata.csv\")\n",
    "disease_metadata.head"
   ]
  },
  {
   "cell_type": "code",
   "execution_count": 10,
   "id": "819b8a07-5af7-4538-a9ae-4fc5fa473ac9",
   "metadata": {},
   "outputs": [
    {
     "name": "stdout",
     "output_type": "stream",
     "text": [
      "Index(['Unnamed: 0', 'KG00004919', 'KG00003428', 'KG00005332', 'KG00000717',\n",
      "       'KG00000572', 'KG00003964', 'KG00004291', 'KG00003289', 'KG00003226',\n",
      "       ...\n",
      "       'KG00004374', 'KG00000204', 'KG00003789', 'KG00000324', 'KG00001199',\n",
      "       'KG00001288', 'KG00002380', 'KG00001066', 'KG00004430', 'KG00004279'],\n",
      "      dtype='object', length=5752)\n"
     ]
    }
   ],
   "source": [
    "print(disease_metadata.keys())"
   ]
  },
  {
   "cell_type": "code",
   "execution_count": 11,
   "id": "b6cde58b-dc44-476a-a65b-674ceed98b37",
   "metadata": {},
   "outputs": [
    {
     "data": {
      "text/plain": [
       "0                             {'Pain, Postoperative'}\n",
       "1                                         {'D010149'}\n",
       "2    ('Pathological Conditions, Signs and Symptoms',)\n",
       "Name: KG00002650, dtype: object"
      ]
     },
     "execution_count": 11,
     "metadata": {},
     "output_type": "execute_result"
    }
   ],
   "source": [
    "disease_metadata.loc[:,\"KG00002650\"]"
   ]
  },
  {
   "cell_type": "code",
   "execution_count": null,
   "id": "548674a4-91ed-4e94-8153-b9e59049a3a3",
   "metadata": {},
   "outputs": [],
   "source": []
  }
 ],
 "metadata": {
  "kernelspec": {
   "display_name": "Python 3 (ipykernel)",
   "language": "python",
   "name": "python3"
  },
  "language_info": {
   "codemirror_mode": {
    "name": "ipython",
    "version": 3
   },
   "file_extension": ".py",
   "mimetype": "text/x-python",
   "name": "python",
   "nbconvert_exporter": "python",
   "pygments_lexer": "ipython3",
   "version": "3.12.3"
  }
 },
 "nbformat": 4,
 "nbformat_minor": 5
}
